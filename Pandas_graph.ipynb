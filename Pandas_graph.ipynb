{
 "cells": [
  {
   "cell_type": "code",
   "execution_count": 76,
   "metadata": {},
   "outputs": [
    {
     "name": "stdout",
     "output_type": "stream",
     "text": [
      "[array([ 4.2 ,  3.4 , -8.28]), array([ 4.2 , -1.6 ,  1.88])]\n",
      "[array([-1.  , -1.6 ,  0.73]), array([-1.  , -6.6 , 10.89]), array([-5.2 , -5.  ,  9.01])]\n",
      "[-0.32647619 -2.032     ]\n"
     ]
    },
    {
     "data": {
      "image/png": "[encoded data removed]",
      "text/plain": [
       "<Figure size 432x288 with 1 Axes>"
      ]
     },
     "metadata": {
      "needs_background": "light"
     },
     "output_type": "display_data"
    }
   ],
   "source": [
    "import pandas as pd\n",
    "import numpy as np\n",
    "import matplotlib.pyplot as plt\n",
    "import matplotlib.lines as mlines\n",
    "\n",
    "inp = np.load(\"04-03-2020_18-34-32.npy\", allow_pickle=True)\n",
    "lines = inp[0]\n",
    "circ = inp[1]\n",
    "point = inp[2]\n",
    "\n",
    "print lines\n",
    "print circ\n",
    "print point\n",
    "\n",
    "fig, ax = plt.subplots()\n",
    "plt.xlim(-3,0)\n",
    "plt.ylim(-3,0)\n",
    "plt.xlim(-5,2)\n",
    "plt.ylim(-5,2)\n",
    "# plt.xlim(-10,10)\n",
    "# plt.ylim(-10,10)\n",
    "plt.xlabel(\"meters\")\n",
    "plt.ylabel(\"meters\")\n",
    "ax.set_aspect(1)\n",
    "\n",
    "for c in circ:\n",
    "    theta = np.linspace(0, 2*np.pi, 100)\n",
    "\n",
    "    r = np.sqrt((c[0]/2)**2+(c[1]/2)**2-c[2])\n",
    "\n",
    "    x1 = c[0]/2+r*np.cos(theta)\n",
    "    x2 = c[1]/2+r*np.sin(theta)\n",
    "    \n",
    "    ax.plot(x1, x2)\n",
    "    \n",
    "for line in lines:\n",
    "    plt.plot([0,line[2]/line[0]],[line[2]/line[1],0])\n",
    "plt.show()\n",
    "    "
   ]
  },
  {
   "cell_type": "code",
   "execution_count": 73,
   "metadata": {},
   "outputs": [
    {
     "name": "stdout",
     "output_type": "stream",
     "text": [
      "[[ 4.2  3.4]\n",
      " [ 4.2 -1.6]] [-31.7063 -48.0539]\n",
      "[-10.19587333   3.26952   ]\n"
     ]
    }
   ],
   "source": [
    "import pandas as pd\n",
    "import numpy as np\n",
    "import matplotlib.pyplot as plt\n",
    "import matplotlib.lines as mlines\n",
    "\n",
    "inp = np.load(\"04-03-2020_18-23-14.npy\", allow_pickle=True)\n",
    "lines = inp[0]\n",
    "circ = inp[1]\n",
    "point = inp[2]\n",
    "\n",
    "A = np.array([(lines[0])[0:2], (lines[1])[0:2]])\n",
    "b = np.array([-(lines[0])[2],-(lines[1])[2]])\n",
    "\n",
    "# A = np.array([[-1,-1], [1,-1]])\n",
    "# b = np.array([-2,-2])\n",
    "\n",
    "\n",
    "print A,b\n",
    "\n",
    "try:\n",
    "    point = np.linalg.solve(A,b)\n",
    "except np.linalg.LinAlgError as err:\n",
    "    print \" MATRICE SINGOLARE PER %s, %s\" % (dev[0].name, dev[0].addr)\n",
    "    point = np.array([0,0])\n",
    "    \n",
    "print point"
   ]
  },
  {
   "cell_type": "code",
   "execution_count": null,
   "metadata": {},
   "outputs": [],
   "source": []
  }
 ],
 "metadata": {
  "kernelspec": {
   "display_name": "Python 2",
   "language": "python",
   "name": "python2"
  },
  "language_info": {
   "codemirror_mode": {
    "name": "ipython",
    "version": 2
   },
   "file_extension": ".py",
   "mimetype": "text/x-python",
   "name": "python",
   "nbconvert_exporter": "python",
   "pygments_lexer": "ipython2",
   "version": "2.7.17"
  }
 },
 "nbformat": 4,
 "nbformat_minor": 2
}
