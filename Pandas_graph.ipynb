{
 "cells": [
  {
   "cell_type": "code",
   "execution_count": 33,
   "metadata": {},
   "outputs": [
    {
     "name": "stdout",
     "output_type": "stream",
     "text": [
      "LINES ==> [array([  4.2 ,   3.4 , -12.12]), array([ 4.2   , -1.6   ,  2.6435])]\n",
      "CIRC ==> [array([-1.    , -1.6   , -4.1276]), array([-1.    , -6.6   , 10.6359]), array([-5.2   , -5.    ,  7.9924])]\n",
      "POINT ==> [0.49543333 2.9527    ]\n",
      "2.24\n",
      "0.7099999999999995\n",
      "2.24\n"
     ]
    },
    {
     "data": {
      "image/png": "[encoded data removed]",
      "text/plain": [
       "<Figure size 432x288 with 1 Axes>"
      ]
     },
     "metadata": {
      "needs_background": "light"
     },
     "output_type": "display_data"
    }
   ],
   "source": [
    "import pandas as pd\n",
    "import numpy as np\n",
    "import matplotlib.pyplot as plt\n",
    "import matplotlib.lines as mlines\n",
    "\n",
    "inp = np.load(\"06-03-2020_10-24-08.npy\", allow_pickle=True)\n",
    "lines = inp[0]\n",
    "circ = inp[1]\n",
    "point = inp[2]\n",
    "\n",
    "print \"LINES ==>\", lines\n",
    "print \"CIRC ==>\", circ\n",
    "print \"POINT ==>\", point\n",
    "\n",
    "fig, ax = plt.subplots()\n",
    "plt.xlim(-1,1)\n",
    "plt.ylim(2,4)\n",
    "plt.xlim(-1,5)\n",
    "plt.ylim(-1,5)\n",
    "# plt.xlim(-2,6)\n",
    "# plt.ylim(-2,6)\n",
    "plt.xlabel(\"meters\")\n",
    "plt.ylabel(\"meters\")\n",
    "ax.set_aspect(1)\n",
    "\n",
    "xrange = np.arange(-1,5,0.2)\n",
    "\n",
    "for c in circ:\n",
    "    theta = np.linspace(0, 2*np.pi, 100)\n",
    "\n",
    "    r = np.sqrt((c[0]/2)**2+(c[1]/2)**2-c[2])\n",
    "    print r\n",
    "\n",
    "    x1 = -c[0]/2+r*np.cos(theta)\n",
    "    x2 = -c[1]/2+r*np.sin(theta)\n",
    "    \n",
    "    ax.plot(x1, x2)\n",
    "    \n",
    "for line in lines:\n",
    "    line_eqn = lambda x : -(line[0]/line[1])*x -line[2]/line[1]\n",
    "    plt.plot(xrange, [ line_eqn(x) for x in xrange], color='k', linestyle='-', linewidth=2)\n",
    "#     plt.plot([0,-line[2]/line[0]],[-line[2]/line[1],0])\n",
    "    \n",
    "plt.plot(point[0], point[1], marker='o', markersize=6, color=\"red\")\n",
    "plt.show()\n",
    "    "
   ]
  },
  {
   "cell_type": "code",
   "execution_count": 2,
   "metadata": {},
   "outputs": [
    {
     "name": "stdout",
     "output_type": "stream",
     "text": [
      "[  0.       5.     -16.3476]\n",
      "[ 4.2    -1.6    48.0539]\n",
      "[ 4.2     3.4    31.7063]\n",
      "[[ 4.2  3.4]\n",
      " [ 4.2 -1.6]] [-31.7063 -48.0539]\n",
      "[-10.19587333   3.26952   ]\n"
     ]
    }
   ],
   "source": [
    "import pandas as pd\n",
    "import numpy as np\n",
    "import matplotlib.pyplot as plt\n",
    "import matplotlib.lines as mlines\n",
    "\n",
    "inp = np.load(\"04-03-2020_18-23-14.npy\", allow_pickle=True)\n",
    "lines = inp[0]\n",
    "circ = inp[1]\n",
    "point = inp[2]\n",
    "\n",
    "A = np.array([(lines[0])[0:2], (lines[1])[0:2]])\n",
    "b = np.array([-(lines[0])[2],-(lines[1])[2]])\n",
    "\n",
    "# A = np.array([[-1,-1], [1,-1]])\n",
    "# b = np.array([-2,-2])\n",
    "\n",
    "print np.subtract(circ[0], circ[1])\n",
    "print np.subtract(circ[1], circ[2])\n",
    "print np.subtract(circ[0], circ[2])\n",
    "\n",
    "print A,b\n",
    "\n",
    "try:\n",
    "    point = np.linalg.solve(A,b)\n",
    "except np.linalg.LinAlgError as err:\n",
    "    print \" MATRICE SINGOLARE PER %s, %s\" % (dev[0].name, dev[0].addr)\n",
    "    point = np.array([0,0])\n",
    "    \n",
    "print point"
   ]
  },
  {
   "cell_type": "code",
   "execution_count": null,
   "metadata": {},
   "outputs": [],
   "source": []
  }
 ],
 "metadata": {
  "kernelspec": {
   "display_name": "Python 2",
   "language": "python",
   "name": "python2"
  },
  "language_info": {
   "codemirror_mode": {
    "name": "ipython",
    "version": 2
   },
   "file_extension": ".py",
   "mimetype": "text/x-python",
   "name": "python",
   "nbconvert_exporter": "python",
   "pygments_lexer": "ipython2",
   "version": "2.7.17"
  }
 },
 "nbformat": 4,
 "nbformat_minor": 2
}
